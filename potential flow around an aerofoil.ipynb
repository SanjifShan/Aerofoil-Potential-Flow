{
 "cells": [
  {
   "cell_type": "code",
   "execution_count": 1,
   "metadata": {},
   "outputs": [],
   "source": [
    "import numpy as np\n",
    "import math\n",
    "import operator\n",
    "from matplotlib import pyplot as plt\n",
    "%matplotlib inline\n"
   ]
  },
  {
   "cell_type": "code",
   "execution_count": 2,
   "metadata": {},
   "outputs": [],
   "source": [
    "# a point class which stores the velocity field at each point on the meshgrid\n",
    "# since we are considering potential flow (i.e inviscid flow), the velocity at a given point is the sum of its contributing velocities \n",
    "\n",
    "class Point(object):\n",
    "    \n",
    "    def __init__ (self, x, y, strength):\n",
    "    \n",
    "        self.x = x\n",
    "        self.y = y\n",
    "        self.strength = strength\n",
    "        \n",
    "    def get_velocity(self):\n",
    "        \n",
    "        u = np.array((self.strength)/(2 * math.pi) * (X - self.x)/ ((X - self.x)**2 + (Y - self.y)**2))\n",
    "        v = np.array((self.strength) / (2 * math.pi) * (Y - self.y) / ((X - self.x)**2 + (Y - self.y)**2))\n",
    "        \n",
    "        return u, v\n",
    "    \n",
    "    def superimpose(self, point_2):\n",
    "        \n",
    "        superimpose = tuple(map(operator.add, self.get_velocity(), point_2.get_velocity()))\n",
    "        \n",
    "        return superimpose\n",
    "    \n",
    "    def coordinates(self, point_2):\n",
    "        \n",
    "        x = (self.x, point_2.x)\n",
    "        y = (self.y, point_2.y)\n",
    "        \n",
    "        return x,y\n",
    "    \n",
    "    def draw(self, point_2):\n",
    "    \n",
    "        superimpose = self.superimpose(point_2) \n",
    "        coordinates = self.coordinates(point_2)\n",
    "        \n",
    "        width = 10.0\n",
    "        height = (y_end-y_start) / (x_end-x_start) * width\n",
    "        plt.figure(figsize = (width,height))\n",
    "        plt.xlabel('x', fontsize = 16)\n",
    "        plt.ylabel('y', fontsize = 16)\n",
    "\n",
    "        plt.xlim(x_start,x_end)\n",
    "        plt.ylim(y_start, y_end)\n",
    "\n",
    "        plt.streamplot(X, Y, superimpose[0], superimpose[1] , density = 2, linewidth = 2, arrowsize = 2, arrowstyle = '->')\n",
    "        plt.scatter(coordinates[0], coordinates[1], s=5, color = '#CD2305', marker = 'o')\n",
    "        "
   ]
  },
  {
   "cell_type": "code",
   "execution_count": 3,
   "metadata": {},
   "outputs": [],
   "source": [
    "# the case of flow without a source/sink or vortex term, free flowing fluid where the velocity field is constant with time\n",
    "class FreeStream:\n",
    "    \n",
    "    def __init__ (self, u_inf):\n",
    "        \n",
    "        self.u_inf = u_inf\n",
    "        \n",
    "    def velocity(self):\n",
    "    \n",
    "        u = self.u_inf * np.ones((N, N), dtype=float)\n",
    "        v = np.zeros((N, N), dtype=float)\n",
    "        \n",
    "        return (u,v)"
   ]
  },
  {
   "cell_type": "code",
   "execution_count": 4,
   "metadata": {},
   "outputs": [],
   "source": [
    "# a class for the case where a source & sink are brough arbitrarily closer to each other\n",
    "# describes a vortex in the context of potential flow\n",
    "\n",
    "class Doublet(object):\n",
    "    \n",
    "    def __init__ (self, x, y, strength):\n",
    "    \n",
    "        self.x = x\n",
    "        self.y = y\n",
    "        self.strength = strength\n",
    "        \n",
    "    def get_velocity(self):\n",
    "        \n",
    "        u = np.array((-self.strength)/(2 * math.pi) * ((X - self.x)**2 - (Y - self.y)**2)/ (((X - self.x)**2 + (Y - self.y)**2))**2)\n",
    "\n",
    "        v = np.array((-self.strength)/(2 * math.pi) * ( 2*(X - self.x)*(Y - self.y) )/ (((X - self.x)**2 + (Y - self.y)**2))**2)\n",
    "        \n",
    "        return u, v\n",
    "    \n",
    "    def superimpose(self, point_2):\n",
    "        \n",
    "        superimpose = tuple(map(operator.add, self.get_velocity(), point_2.get_velocity()))\n",
    "        \n",
    "        return superimpose\n",
    "    \n",
    "    def coordinates(self, point_2):\n",
    "        \n",
    "        x = (self.x, point_2.x)\n",
    "        y = (self.y, point_2.y)\n",
    "        \n",
    "        return x,y\n",
    "    \n",
    "    def draw(self, point_2):\n",
    "    \n",
    "        superimpose = self.superimpose(point_2)\n",
    "        \n",
    "        coordinates = self.coordinates(point_2)\n",
    "        \n",
    "        width = 10.0\n",
    "        height = (y_end-y_start) / (x_end-x_start) * width\n",
    "        plt.figure(figsize = (width,height))\n",
    "        plt.xlabel('x', fontsize = 16)\n",
    "        plt.ylabel('y', fontsize = 16)\n",
    "\n",
    "        plt.xlim(x_start,x_end)\n",
    "        plt.ylim(y_start, y_end)\n",
    "\n",
    "        plt.streamplot(X, Y, superimpose[0], superimpose[1] , density = 2, linewidth = 2, arrowsize = 2, arrowstyle = '->')\n",
    "        plt.scatter(coordinates[0], coordinates[1], s=30, color = '#CD2305', marker = 'o')"
   ]
  },
  {
   "cell_type": "code",
   "execution_count": 5,
   "metadata": {},
   "outputs": [
    {
     "ename": "OSError",
     "evalue": "NACA0012_sigma.txt not found.",
     "output_type": "error",
     "traceback": [
      "\u001b[1;31m---------------------------------------------------------------------------\u001b[0m",
      "\u001b[1;31mOSError\u001b[0m                                   Traceback (most recent call last)",
      "\u001b[1;32m<ipython-input-5-b58caf9885c6>\u001b[0m in \u001b[0;36m<module>\u001b[1;34m\u001b[0m\n\u001b[1;32m----> 1\u001b[1;33m \u001b[0msigma\u001b[0m \u001b[1;33m=\u001b[0m \u001b[0mnp\u001b[0m\u001b[1;33m.\u001b[0m\u001b[0mloadtxt\u001b[0m\u001b[1;33m(\u001b[0m\u001b[1;34m'NACA0012_sigma.txt'\u001b[0m\u001b[1;33m)\u001b[0m\u001b[1;33m\u001b[0m\u001b[1;33m\u001b[0m\u001b[0m\n\u001b[0m\u001b[0;32m      2\u001b[0m \u001b[0mx_source\u001b[0m \u001b[1;33m=\u001b[0m \u001b[0mnp\u001b[0m\u001b[1;33m.\u001b[0m\u001b[0mloadtxt\u001b[0m\u001b[1;33m(\u001b[0m\u001b[1;34m'NACA0012_x.txt'\u001b[0m\u001b[1;33m)\u001b[0m\u001b[1;33m\u001b[0m\u001b[1;33m\u001b[0m\u001b[0m\n\u001b[0;32m      3\u001b[0m \u001b[0my_source\u001b[0m \u001b[1;33m=\u001b[0m \u001b[0mnp\u001b[0m\u001b[1;33m.\u001b[0m\u001b[0mloadtxt\u001b[0m\u001b[1;33m(\u001b[0m\u001b[1;34m'NACA0012_y.txt'\u001b[0m\u001b[1;33m)\u001b[0m\u001b[1;33m\u001b[0m\u001b[1;33m\u001b[0m\u001b[0m\n\u001b[0;32m      4\u001b[0m \u001b[1;33m\u001b[0m\u001b[0m\n\u001b[0;32m      5\u001b[0m \u001b[0mx_source\u001b[0m\u001b[1;33m\u001b[0m\u001b[1;33m\u001b[0m\u001b[0m\n",
      "\u001b[1;32mC:\\ProgramData\\Anaconda3\\lib\\site-packages\\numpy\\lib\\npyio.py\u001b[0m in \u001b[0;36mloadtxt\u001b[1;34m(fname, dtype, comments, delimiter, converters, skiprows, usecols, unpack, ndmin, encoding, max_rows)\u001b[0m\n\u001b[0;32m    979\u001b[0m             \u001b[0mfname\u001b[0m \u001b[1;33m=\u001b[0m \u001b[0mos_fspath\u001b[0m\u001b[1;33m(\u001b[0m\u001b[0mfname\u001b[0m\u001b[1;33m)\u001b[0m\u001b[1;33m\u001b[0m\u001b[1;33m\u001b[0m\u001b[0m\n\u001b[0;32m    980\u001b[0m         \u001b[1;32mif\u001b[0m \u001b[0m_is_string_like\u001b[0m\u001b[1;33m(\u001b[0m\u001b[0mfname\u001b[0m\u001b[1;33m)\u001b[0m\u001b[1;33m:\u001b[0m\u001b[1;33m\u001b[0m\u001b[1;33m\u001b[0m\u001b[0m\n\u001b[1;32m--> 981\u001b[1;33m             \u001b[0mfh\u001b[0m \u001b[1;33m=\u001b[0m \u001b[0mnp\u001b[0m\u001b[1;33m.\u001b[0m\u001b[0mlib\u001b[0m\u001b[1;33m.\u001b[0m\u001b[0m_datasource\u001b[0m\u001b[1;33m.\u001b[0m\u001b[0mopen\u001b[0m\u001b[1;33m(\u001b[0m\u001b[0mfname\u001b[0m\u001b[1;33m,\u001b[0m \u001b[1;34m'rt'\u001b[0m\u001b[1;33m,\u001b[0m \u001b[0mencoding\u001b[0m\u001b[1;33m=\u001b[0m\u001b[0mencoding\u001b[0m\u001b[1;33m)\u001b[0m\u001b[1;33m\u001b[0m\u001b[1;33m\u001b[0m\u001b[0m\n\u001b[0m\u001b[0;32m    982\u001b[0m             \u001b[0mfencoding\u001b[0m \u001b[1;33m=\u001b[0m \u001b[0mgetattr\u001b[0m\u001b[1;33m(\u001b[0m\u001b[0mfh\u001b[0m\u001b[1;33m,\u001b[0m \u001b[1;34m'encoding'\u001b[0m\u001b[1;33m,\u001b[0m \u001b[1;34m'latin1'\u001b[0m\u001b[1;33m)\u001b[0m\u001b[1;33m\u001b[0m\u001b[1;33m\u001b[0m\u001b[0m\n\u001b[0;32m    983\u001b[0m             \u001b[0mfh\u001b[0m \u001b[1;33m=\u001b[0m \u001b[0miter\u001b[0m\u001b[1;33m(\u001b[0m\u001b[0mfh\u001b[0m\u001b[1;33m)\u001b[0m\u001b[1;33m\u001b[0m\u001b[1;33m\u001b[0m\u001b[0m\n",
      "\u001b[1;32mC:\\ProgramData\\Anaconda3\\lib\\site-packages\\numpy\\lib\\_datasource.py\u001b[0m in \u001b[0;36mopen\u001b[1;34m(path, mode, destpath, encoding, newline)\u001b[0m\n\u001b[0;32m    267\u001b[0m \u001b[1;33m\u001b[0m\u001b[0m\n\u001b[0;32m    268\u001b[0m     \u001b[0mds\u001b[0m \u001b[1;33m=\u001b[0m \u001b[0mDataSource\u001b[0m\u001b[1;33m(\u001b[0m\u001b[0mdestpath\u001b[0m\u001b[1;33m)\u001b[0m\u001b[1;33m\u001b[0m\u001b[1;33m\u001b[0m\u001b[0m\n\u001b[1;32m--> 269\u001b[1;33m     \u001b[1;32mreturn\u001b[0m \u001b[0mds\u001b[0m\u001b[1;33m.\u001b[0m\u001b[0mopen\u001b[0m\u001b[1;33m(\u001b[0m\u001b[0mpath\u001b[0m\u001b[1;33m,\u001b[0m \u001b[0mmode\u001b[0m\u001b[1;33m,\u001b[0m \u001b[0mencoding\u001b[0m\u001b[1;33m=\u001b[0m\u001b[0mencoding\u001b[0m\u001b[1;33m,\u001b[0m \u001b[0mnewline\u001b[0m\u001b[1;33m=\u001b[0m\u001b[0mnewline\u001b[0m\u001b[1;33m)\u001b[0m\u001b[1;33m\u001b[0m\u001b[1;33m\u001b[0m\u001b[0m\n\u001b[0m\u001b[0;32m    270\u001b[0m \u001b[1;33m\u001b[0m\u001b[0m\n\u001b[0;32m    271\u001b[0m \u001b[1;33m\u001b[0m\u001b[0m\n",
      "\u001b[1;32mC:\\ProgramData\\Anaconda3\\lib\\site-packages\\numpy\\lib\\_datasource.py\u001b[0m in \u001b[0;36mopen\u001b[1;34m(self, path, mode, encoding, newline)\u001b[0m\n\u001b[0;32m    621\u001b[0m                                       encoding=encoding, newline=newline)\n\u001b[0;32m    622\u001b[0m         \u001b[1;32melse\u001b[0m\u001b[1;33m:\u001b[0m\u001b[1;33m\u001b[0m\u001b[1;33m\u001b[0m\u001b[0m\n\u001b[1;32m--> 623\u001b[1;33m             \u001b[1;32mraise\u001b[0m \u001b[0mIOError\u001b[0m\u001b[1;33m(\u001b[0m\u001b[1;34m\"%s not found.\"\u001b[0m \u001b[1;33m%\u001b[0m \u001b[0mpath\u001b[0m\u001b[1;33m)\u001b[0m\u001b[1;33m\u001b[0m\u001b[1;33m\u001b[0m\u001b[0m\n\u001b[0m\u001b[0;32m    624\u001b[0m \u001b[1;33m\u001b[0m\u001b[0m\n\u001b[0;32m    625\u001b[0m \u001b[1;33m\u001b[0m\u001b[0m\n",
      "\u001b[1;31mOSError\u001b[0m: NACA0012_sigma.txt not found."
     ]
    }
   ],
   "source": [
    "sigma = np.loadtxt('NACA0012_sigma.txt')\n",
    "x_source = np.loadtxt('NACA0012_x.txt')\n",
    "y_source = np.loadtxt('NACA0012_y.txt')\n",
    "\n",
    "x_source"
   ]
  },
  {
   "cell_type": "code",
   "execution_count": 6,
   "metadata": {},
   "outputs": [
    {
     "ename": "NameError",
     "evalue": "name 'x_source' is not defined",
     "output_type": "error",
     "traceback": [
      "\u001b[1;31m---------------------------------------------------------------------------\u001b[0m",
      "\u001b[1;31mNameError\u001b[0m                                 Traceback (most recent call last)",
      "\u001b[1;32m<ipython-input-6-f846b4d64558>\u001b[0m in \u001b[0;36m<module>\u001b[1;34m\u001b[0m\n\u001b[0;32m     22\u001b[0m \u001b[0mv\u001b[0m \u001b[1;33m=\u001b[0m \u001b[1;33m(\u001b[0m\u001b[1;36m0\u001b[0m\u001b[1;33m,\u001b[0m\u001b[1;36m0\u001b[0m\u001b[1;33m)\u001b[0m\u001b[1;33m\u001b[0m\u001b[1;33m\u001b[0m\u001b[0m\n\u001b[0;32m     23\u001b[0m \u001b[1;33m\u001b[0m\u001b[0m\n\u001b[1;32m---> 24\u001b[1;33m \u001b[1;32mfor\u001b[0m \u001b[0mi\u001b[0m \u001b[1;32min\u001b[0m \u001b[0mrange\u001b[0m\u001b[1;33m(\u001b[0m\u001b[1;36m1\u001b[0m\u001b[1;33m,\u001b[0m\u001b[0mlen\u001b[0m\u001b[1;33m(\u001b[0m\u001b[0mx_source\u001b[0m\u001b[1;33m)\u001b[0m\u001b[1;33m)\u001b[0m\u001b[1;33m:\u001b[0m\u001b[1;33m\u001b[0m\u001b[1;33m\u001b[0m\u001b[0m\n\u001b[0m\u001b[0;32m     25\u001b[0m \u001b[1;33m\u001b[0m\u001b[0m\n\u001b[0;32m     26\u001b[0m     \u001b[0mv\u001b[0m \u001b[1;33m=\u001b[0m \u001b[0mtuple\u001b[0m\u001b[1;33m(\u001b[0m\u001b[0mmap\u001b[0m\u001b[1;33m(\u001b[0m\u001b[0moperator\u001b[0m\u001b[1;33m.\u001b[0m\u001b[0madd\u001b[0m\u001b[1;33m,\u001b[0m \u001b[0mv\u001b[0m \u001b[1;33m,\u001b[0m \u001b[0mDoublet\u001b[0m\u001b[1;33m(\u001b[0m\u001b[0mx_source\u001b[0m\u001b[1;33m[\u001b[0m\u001b[0mi\u001b[0m\u001b[1;33m]\u001b[0m\u001b[1;33m,\u001b[0m \u001b[0my_source\u001b[0m\u001b[1;33m[\u001b[0m\u001b[0mi\u001b[0m\u001b[1;33m]\u001b[0m\u001b[1;33m,\u001b[0m \u001b[0msigma\u001b[0m\u001b[1;33m[\u001b[0m\u001b[0mi\u001b[0m\u001b[1;33m]\u001b[0m\u001b[1;33m)\u001b[0m\u001b[1;33m.\u001b[0m\u001b[0mget_velocity\u001b[0m\u001b[1;33m(\u001b[0m\u001b[1;33m)\u001b[0m\u001b[1;33m)\u001b[0m\u001b[1;33m)\u001b[0m\u001b[1;33m\u001b[0m\u001b[1;33m\u001b[0m\u001b[0m\n",
      "\u001b[1;31mNameError\u001b[0m: name 'x_source' is not defined"
     ]
    },
    {
     "data": {
      "image/png": "[encoded data removed]",
      "text/plain": [
       "<Figure size 720x240 with 1 Axes>"
      ]
     },
     "metadata": {
      "needs_background": "light"
     },
     "output_type": "display_data"
    }
   ],
   "source": [
    "N = 50\n",
    "\n",
    "x_start, x_end = -1.0, 2.0\n",
    "y_start, y_end = -0.5, 0.5\n",
    "\n",
    "x = np.linspace(x_start, x_end, N)\n",
    "y = np.linspace(y_start, y_end, N)\n",
    "\n",
    "X, Y = np.meshgrid(x,y)\n",
    "\n",
    "\n",
    "width = 10.0\n",
    "height = (y_end-y_start) / (x_end-x_start) * width\n",
    "plt.figure(figsize = (width,height))\n",
    "plt.xlabel('x', fontsize = 16)\n",
    "plt.ylabel('y', fontsize = 16)\n",
    "\n",
    "plt.xlim(x_start,x_end)\n",
    "plt.ylim(y_start, y_end)\n",
    "\n",
    "\n",
    "v = (0,0)\n",
    "\n",
    "for i in range(1,len(x_source)):\n",
    "    \n",
    "    v = tuple(map(operator.add, v , Doublet(x_source[i], y_source[i], sigma[i]).get_velocity()))\n",
    "    \n",
    "plt.streamplot(X, Y, v[0]+1.5, v[1], density = 2, linewidth = 2, arrowsize = 2, arrowstyle = '->')\n",
    "plt.plot(x_source, y_source, color = '#CD2305', marker = 'o')"
   ]
  },
  {
   "cell_type": "code",
   "execution_count": null,
   "metadata": {},
   "outputs": [],
   "source": []
  }
 ],
 "metadata": {
  "kernelspec": {
   "display_name": "Python 3",
   "language": "python",
   "name": "python3"
  },
  "language_info": {
   "codemirror_mode": {
    "name": "ipython",
    "version": 3
   },
   "file_extension": ".py",
   "mimetype": "text/x-python",
   "name": "python",
   "nbconvert_exporter": "python",
   "pygments_lexer": "ipython3",
   "version": "3.7.1"
  }
 },
 "nbformat": 4,
 "nbformat_minor": 4
}
